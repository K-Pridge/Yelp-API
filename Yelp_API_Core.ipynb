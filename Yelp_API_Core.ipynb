{
 "cells": [
  {
   "cell_type": "code",
   "execution_count": 6,
   "id": "e9b5f6c6-f469-44ac-b65a-40fa680a0c1d",
   "metadata": {},
   "outputs": [
    {
     "name": "stdout",
     "output_type": "stream",
     "text": [
      "Requirement already satisfied: plotly in c:\\users\\wkyle\\anaconda3\\envs\\dojo-env\\lib\\site-packages (5.15.0)\n",
      "Requirement already satisfied: tenacity>=6.2.0 in c:\\users\\wkyle\\anaconda3\\envs\\dojo-env\\lib\\site-packages (from plotly) (8.2.2)\n",
      "Requirement already satisfied: packaging in c:\\users\\wkyle\\anaconda3\\envs\\dojo-env\\lib\\site-packages (from plotly) (23.0)\n"
     ]
    }
   ],
   "source": [
    "## Plotly is not included in your dojo-env\n",
    "!pip install plotly"
   ]
  },
  {
   "cell_type": "code",
   "execution_count": 7,
   "id": "134d12a2-6faf-493c-8dab-741aba690874",
   "metadata": {},
   "outputs": [],
   "source": [
    "# Standard Imports\n",
    "import numpy as np\n",
    "import pandas as pd\n",
    "import matplotlib.pyplot as plt\n",
    "import seaborn as sns\n",
    "\n",
    "# Additional Imports\n",
    "# os - for saving and loading files\n",
    "# json - to work with json files\n",
    "# math - to round up results\n",
    "# time - to add a short pause to not overwhelm the server\n",
    "import os, json, math, time\n",
    "\n",
    "# to make yelpapi calls\n",
    "from yelpapi import YelpAPI\n",
    "\n",
    "# progress bar from tqdm_notebook\n",
    "from tqdm.notebook import tqdm_notebook"
   ]
  },
  {
   "cell_type": "code",
   "execution_count": 8,
   "id": "64986185-7f33-4a8c-a5a8-4e45cb5c74de",
   "metadata": {},
   "outputs": [
    {
     "data": {
      "text/plain": [
       "dict_keys(['client_id', 'api-key'])"
      ]
     },
     "execution_count": 8,
     "metadata": {},
     "output_type": "execute_result"
    }
   ],
   "source": [
    "import json\n",
    "with open('Yelp API/yelp_api.json') as f:\n",
    "    login = json.load(f)\n",
    "login.keys()"
   ]
  },
  {
   "cell_type": "code",
   "execution_count": 9,
   "id": "d99437d8-b27a-43fe-a2ab-e3a55dfb0bbe",
   "metadata": {},
   "outputs": [
    {
     "data": {
      "text/plain": [
       "<yelpapi.yelpapi.YelpAPI at 0x19233f6bee0>"
      ]
     },
     "execution_count": 9,
     "metadata": {},
     "output_type": "execute_result"
    }
   ],
   "source": [
    "from yelpapi import YelpAPI\n",
    "yelp_api = YelpAPI(login['api-key'], timeout_s=5.0)\n",
    "yelp_api"
   ]
  },
  {
   "cell_type": "code",
   "execution_count": 10,
   "id": "aa98176a-6ba5-4a8d-b917-7a5249939729",
   "metadata": {},
   "outputs": [],
   "source": [
    "# set our API call parameters and filename before the first call\n",
    "location = 'Atlanta, GA 30033 '\n",
    "term = 'american'"
   ]
  },
  {
   "cell_type": "code",
   "execution_count": 11,
   "id": "8dc482b4-5834-48c7-b796-b33581d5f745",
   "metadata": {},
   "outputs": [
    {
     "data": {
      "text/plain": [
       "'Atlanta'"
      ]
     },
     "execution_count": 11,
     "metadata": {},
     "output_type": "execute_result"
    }
   ],
   "source": [
    "# Programmatically obtain the city name only from the location string to use in our file name\n",
    "location.split(',')[0]"
   ]
  },
  {
   "cell_type": "code",
   "execution_count": 12,
   "id": "0d3f353e-0f3c-47ec-bd85-5731157bbb28",
   "metadata": {},
   "outputs": [
    {
     "data": {
      "text/plain": [
       "'Data/Atlanta-american.json'"
      ]
     },
     "execution_count": 12,
     "metadata": {},
     "output_type": "execute_result"
    }
   ],
   "source": [
    "## Specify folder for saving data\n",
    "FOLDER = 'Data/'\n",
    "# This will make the Data folder for us if we don't have one\n",
    "os.makedirs(FOLDER, exist_ok = True)\n",
    "\n",
    "\n",
    "# Specifying JSON_FILE filename (can include a folder) to include the location and search term\n",
    "JSON_FILE = FOLDER+f\"{location.split(',')[0]}-{term}.json\"\n",
    "\n",
    "#Verify the name of the JSON_FILE\n",
    "JSON_FILE"
   ]
  },
  {
   "cell_type": "code",
   "execution_count": 13,
   "id": "08958385-5121-4f2a-b539-104096179f23",
   "metadata": {},
   "outputs": [
    {
     "data": {
      "text/plain": [
       "'Data'"
      ]
     },
     "execution_count": 13,
     "metadata": {},
     "output_type": "execute_result"
    }
   ],
   "source": [
    "# We can extract the folder name from the file path \n",
    "folder = os.path.dirname(JSON_FILE)\n",
    "folder"
   ]
  },
  {
   "cell_type": "code",
   "execution_count": 14,
   "id": "a4c0197a-cca4-41ed-8446-abd4aa4502ae",
   "metadata": {},
   "outputs": [
    {
     "name": "stdout",
     "output_type": "stream",
     "text": [
      "[i] Data/Atlanta-american.json not found. Crating and saving empty list to file.\n"
     ]
    }
   ],
   "source": [
    "## Check if JSON_FILE exists\n",
    "file_exists = os.path.isfile(JSON_FILE)\n",
    "\n",
    "## If it does not exist: \n",
    "if file_exists == False:    \n",
    "    ## CREATE ANY NEEDED FOLDERS\n",
    "    # Get the Folder Name only\n",
    "    folder = os.path.dirname(JSON_FILE)\n",
    "    \n",
    "    ## If JSON folder name is not empty: (We have included a folder in our filepath)\n",
    "    if len(folder)>0:\n",
    "        # create the folder (In our case, the folder is Data)\n",
    "        os.makedirs(folder, exist_ok = True)\n",
    "        \n",
    "        \n",
    "    ## INFORM USER AND SAVE EMPTY LIST\n",
    "    print(f\"[i] {JSON_FILE} not found. Crating and saving empty list to file.\")\n",
    "\n",
    "    \n",
    "    ## save the first page of results\n",
    "    with open(JSON_FILE, 'w') as f:\n",
    "          json.dump([], f)\n",
    "        \n",
    "## If it exists, inform user\n",
    "else:\n",
    "    print(f\"[i] {JSON_FILE} already exists.\")"
   ]
  },
  {
   "cell_type": "code",
   "execution_count": 15,
   "id": "87152119-3ee3-4d19-b93a-ca8f66dc9d37",
   "metadata": {},
   "outputs": [],
   "source": [
    "# use our yelp_api variable's search_query method to perform our API call\n",
    "# for help with any function, go inside () and click shift + tab\n",
    "# we MUST include location (or lat/long) but we can include other arguments as well\n",
    "\n",
    "results = yelp_api.search_query(location = location, term = term)"
   ]
  },
  {
   "cell_type": "code",
   "execution_count": 16,
   "id": "64ebfe51-b29a-444b-929e-d3feb90b8f43",
   "metadata": {},
   "outputs": [
    {
     "data": {
      "text/plain": [
       "dict"
      ]
     },
     "execution_count": 16,
     "metadata": {},
     "output_type": "execute_result"
    }
   ],
   "source": [
    "# Check data type of the results\n",
    "type(results)"
   ]
  },
  {
   "cell_type": "code",
   "execution_count": 17,
   "id": "0ec3690f-3b4c-4682-9243-eecd19cabb8a",
   "metadata": {},
   "outputs": [
    {
     "data": {
      "text/plain": [
       "3"
      ]
     },
     "execution_count": 17,
     "metadata": {},
     "output_type": "execute_result"
    }
   ],
   "source": [
    "# Check the length of the results\n",
    "len(results)"
   ]
  },
  {
   "cell_type": "code",
   "execution_count": 18,
   "id": "f56ada4c-255c-4c4e-9b0d-8bb1a0aca3d0",
   "metadata": {},
   "outputs": [
    {
     "data": {
      "text/plain": [
       "dict_keys(['businesses', 'total', 'region'])"
      ]
     },
     "execution_count": 18,
     "metadata": {},
     "output_type": "execute_result"
    }
   ],
   "source": [
    "# List the keys of the dictionary\n",
    "results.keys()"
   ]
  },
  {
   "cell_type": "code",
   "execution_count": 19,
   "id": "1f40ad2a-a545-4a9b-a7f3-6be22d2dd517",
   "metadata": {},
   "outputs": [
    {
     "data": {
      "text/plain": [
       "[{'id': '-y7EeIOjoFnNjdnBXc23hg',\n",
       "  'alias': 'the-kitchen-decatur',\n",
       "  'name': 'The Kitchen',\n",
       "  'image_url': 'https://s3-media1.fl.yelpcdn.com/bphoto/lfzSmE_pch8lOFv-I3Lhpg/o.jpg',\n",
       "  'is_closed': False,\n",
       "  'url': 'https://www.yelp.com/biz/the-kitchen-decatur?adjust_creative=7KT0rwzQNkV48V7vYExtqQ&utm_campaign=yelp_api_v3&utm_medium=api_v3_business_search&utm_source=7KT0rwzQNkV48V7vYExtqQ',\n",
       "  'review_count': 93,\n",
       "  'categories': [{'alias': 'tradamerican', 'title': 'American'},\n",
       "   {'alias': 'soulfood', 'title': 'Soul Food'},\n",
       "   {'alias': 'breakfast_brunch', 'title': 'Breakfast & Brunch'}],\n",
       "  'rating': 4.3,\n",
       "  'coordinates': {'latitude': 33.77842, 'longitude': -84.27765},\n",
       "  'transactions': ['delivery', 'pickup'],\n",
       "  'price': '$$',\n",
       "  'location': {'address1': '2752 E Ponce De Leon Ave',\n",
       "   'address2': 'Ste A1',\n",
       "   'address3': '',\n",
       "   'city': 'Decatur',\n",
       "   'zip_code': '30030',\n",
       "   'country': 'US',\n",
       "   'state': 'GA',\n",
       "   'display_address': ['2752 E Ponce De Leon Ave',\n",
       "    'Ste A1',\n",
       "    'Decatur, GA 30030']},\n",
       "  'phone': '+14043433806',\n",
       "  'display_phone': '(404) 343-3806',\n",
       "  'distance': 3955.6053393219177},\n",
       " {'id': 'U4K4dCTtGeNNPUtDaC3HHg',\n",
       "  'alias': 'wheelhouse-craft-pub-and-kitchen-decatur',\n",
       "  'name': 'Wheelhouse Craft Pub And Kitchen',\n",
       "  'image_url': 'https://s3-media3.fl.yelpcdn.com/bphoto/GF2sVV31E4iaAhLmb5oatg/o.jpg',\n",
       "  'is_closed': False,\n",
       "  'url': 'https://www.yelp.com/biz/wheelhouse-craft-pub-and-kitchen-decatur?adjust_creative=7KT0rwzQNkV48V7vYExtqQ&utm_campaign=yelp_api_v3&utm_medium=api_v3_business_search&utm_source=7KT0rwzQNkV48V7vYExtqQ',\n",
       "  'review_count': 187,\n",
       "  'categories': [{'alias': 'pubs', 'title': 'Pubs'},\n",
       "   {'alias': 'fishnchips', 'title': 'Fish & Chips'},\n",
       "   {'alias': 'burgers', 'title': 'Burgers'}],\n",
       "  'rating': 4.6,\n",
       "  'coordinates': {'latitude': 33.792788, 'longitude': -84.290715},\n",
       "  'transactions': ['pickup'],\n",
       "  'price': '$$',\n",
       "  'location': {'address1': '1479 Scott Blvd',\n",
       "   'address2': '',\n",
       "   'address3': None,\n",
       "   'city': 'Decatur',\n",
       "   'zip_code': '30030',\n",
       "   'country': 'US',\n",
       "   'state': 'GA',\n",
       "   'display_address': ['1479 Scott Blvd', 'Decatur, GA 30030']},\n",
       "  'phone': '+14702404945',\n",
       "  'display_phone': '(470) 240-4945',\n",
       "  'distance': 2274.825994279717},\n",
       " {'id': 'dfL1KYHtcs6YaFVx-nZTdQ',\n",
       "  'alias': 'whiskey-bird-atlanta',\n",
       "  'name': 'Whiskey Bird',\n",
       "  'image_url': 'https://s3-media4.fl.yelpcdn.com/bphoto/QAGt0xThFocXZQO2_7-Bpw/o.jpg',\n",
       "  'is_closed': False,\n",
       "  'url': 'https://www.yelp.com/biz/whiskey-bird-atlanta?adjust_creative=7KT0rwzQNkV48V7vYExtqQ&utm_campaign=yelp_api_v3&utm_medium=api_v3_business_search&utm_source=7KT0rwzQNkV48V7vYExtqQ',\n",
       "  'review_count': 642,\n",
       "  'categories': [{'alias': 'newamerican', 'title': 'New American'},\n",
       "   {'alias': 'asianfusion', 'title': 'Asian Fusion'},\n",
       "   {'alias': 'breakfast_brunch', 'title': 'Breakfast & Brunch'}],\n",
       "  'rating': 4.4,\n",
       "  'coordinates': {'latitude': 33.792656, 'longitude': -84.351852},\n",
       "  'transactions': ['delivery'],\n",
       "  'price': '$$',\n",
       "  'location': {'address1': '1409 N Highland Ave NE',\n",
       "   'address2': None,\n",
       "   'address3': '',\n",
       "   'city': 'Atlanta',\n",
       "   'zip_code': '30306',\n",
       "   'country': 'US',\n",
       "   'state': 'GA',\n",
       "   'display_address': ['1409 N Highland Ave NE', 'Atlanta, GA 30306']},\n",
       "  'phone': '+14045000575',\n",
       "  'display_phone': '(404) 500-0575',\n",
       "  'distance': 6399.007374296915},\n",
       " {'id': 'yyakxBb3bLHcnIxHUKJNgw',\n",
       "  'alias': 'the-general-muir-atlanta',\n",
       "  'name': 'The General Muir',\n",
       "  'image_url': 'https://s3-media1.fl.yelpcdn.com/bphoto/eFOWuzVTMYsk4JLMFeW5ZA/o.jpg',\n",
       "  'is_closed': False,\n",
       "  'url': 'https://www.yelp.com/biz/the-general-muir-atlanta?adjust_creative=7KT0rwzQNkV48V7vYExtqQ&utm_campaign=yelp_api_v3&utm_medium=api_v3_business_search&utm_source=7KT0rwzQNkV48V7vYExtqQ',\n",
       "  'review_count': 1241,\n",
       "  'categories': [{'alias': 'delis', 'title': 'Delis'},\n",
       "   {'alias': 'breakfast_brunch', 'title': 'Breakfast & Brunch'},\n",
       "   {'alias': 'tradamerican', 'title': 'American'}],\n",
       "  'rating': 4.0,\n",
       "  'coordinates': {'latitude': 33.8009687, 'longitude': -84.3274858},\n",
       "  'transactions': ['delivery'],\n",
       "  'price': '$$',\n",
       "  'location': {'address1': '1540 Avenue Pl',\n",
       "   'address2': 'Ste B-230',\n",
       "   'address3': 'Emory Point',\n",
       "   'city': 'Atlanta',\n",
       "   'zip_code': '30329',\n",
       "   'country': 'US',\n",
       "   'state': 'GA',\n",
       "   'display_address': ['1540 Avenue Pl',\n",
       "    'Ste B-230',\n",
       "    'Emory Point',\n",
       "    'Atlanta, GA 30329']},\n",
       "  'phone': '+16789279131',\n",
       "  'display_phone': '(678) 927-9131',\n",
       "  'distance': 3966.4770775111388},\n",
       " {'id': 'bJJK4Hgzdedu98FgtKi56Q',\n",
       "  'alias': 'brew-and-bird-decatur-2',\n",
       "  'name': 'Brew and Bird',\n",
       "  'image_url': 'https://s3-media1.fl.yelpcdn.com/bphoto/rYwox503_fiD6JxLmet98Q/o.jpg',\n",
       "  'is_closed': False,\n",
       "  'url': 'https://www.yelp.com/biz/brew-and-bird-decatur-2?adjust_creative=7KT0rwzQNkV48V7vYExtqQ&utm_campaign=yelp_api_v3&utm_medium=api_v3_business_search&utm_source=7KT0rwzQNkV48V7vYExtqQ',\n",
       "  'review_count': 194,\n",
       "  'categories': [{'alias': 'beerbar', 'title': 'Beer Bar'},\n",
       "   {'alias': 'chicken_wings', 'title': 'Chicken Wings'}],\n",
       "  'rating': 4.3,\n",
       "  'coordinates': {'latitude': 33.792235, 'longitude': -84.30513683},\n",
       "  'transactions': ['delivery', 'pickup'],\n",
       "  'price': '$$',\n",
       "  'location': {'address1': '1355 Clairmont Rd',\n",
       "   'address2': None,\n",
       "   'address3': None,\n",
       "   'city': 'Decatur',\n",
       "   'zip_code': '30033',\n",
       "   'country': 'US',\n",
       "   'state': 'GA',\n",
       "   'display_address': ['1355 Clairmont Rd', 'Decatur, GA 30033']},\n",
       "  'phone': '+14042055566',\n",
       "  'display_phone': '(404) 205-5566',\n",
       "  'distance': 2858.554068122621},\n",
       " {'id': 'sG4CNgTb7vu_29bcCpLRwQ',\n",
       "  'alias': 'folk-art-decatur-2',\n",
       "  'name': 'Folk Art',\n",
       "  'image_url': 'https://s3-media1.fl.yelpcdn.com/bphoto/mmt6ESSTnlFdAygsKrab-A/o.jpg',\n",
       "  'is_closed': False,\n",
       "  'url': 'https://www.yelp.com/biz/folk-art-decatur-2?adjust_creative=7KT0rwzQNkV48V7vYExtqQ&utm_campaign=yelp_api_v3&utm_medium=api_v3_business_search&utm_source=7KT0rwzQNkV48V7vYExtqQ',\n",
       "  'review_count': 242,\n",
       "  'categories': [{'alias': 'tradamerican', 'title': 'American'},\n",
       "   {'alias': 'southern', 'title': 'Southern'},\n",
       "   {'alias': 'breakfast_brunch', 'title': 'Breakfast & Brunch'}],\n",
       "  'rating': 4.0,\n",
       "  'coordinates': {'latitude': 33.775433, 'longitude': -84.298137},\n",
       "  'transactions': ['delivery'],\n",
       "  'price': '$$',\n",
       "  'location': {'address1': '174 W Ponce De Leon Ave',\n",
       "   'address2': None,\n",
       "   'address3': '',\n",
       "   'city': 'Decatur',\n",
       "   'zip_code': '30030',\n",
       "   'country': 'US',\n",
       "   'state': 'GA',\n",
       "   'display_address': ['174 W Ponce De Leon Ave', 'Decatur, GA 30030']},\n",
       "  'phone': '+14043739943',\n",
       "  'display_phone': '(404) 373-9943',\n",
       "  'distance': 4304.119756881827},\n",
       " {'id': 'ot4np4xvoqUw2c-W_bqlFg',\n",
       "  'alias': 'sprig-restaurant-decatur',\n",
       "  'name': 'Sprig Restaurant',\n",
       "  'image_url': 'https://s3-media4.fl.yelpcdn.com/bphoto/Y6UEtYiWWYOjF3h2INID3w/o.jpg',\n",
       "  'is_closed': False,\n",
       "  'url': 'https://www.yelp.com/biz/sprig-restaurant-decatur?adjust_creative=7KT0rwzQNkV48V7vYExtqQ&utm_campaign=yelp_api_v3&utm_medium=api_v3_business_search&utm_source=7KT0rwzQNkV48V7vYExtqQ',\n",
       "  'review_count': 435,\n",
       "  'categories': [{'alias': 'southern', 'title': 'Southern'},\n",
       "   {'alias': 'bars', 'title': 'Bars'},\n",
       "   {'alias': 'tradamerican', 'title': 'American'}],\n",
       "  'rating': 4.0,\n",
       "  'coordinates': {'latitude': 33.8250843, 'longitude': -84.2902421},\n",
       "  'transactions': ['delivery', 'pickup'],\n",
       "  'price': '$$',\n",
       "  'location': {'address1': '2860 LaVista Rd',\n",
       "   'address2': '',\n",
       "   'address3': '',\n",
       "   'city': 'Decatur',\n",
       "   'zip_code': '30033',\n",
       "   'country': 'US',\n",
       "   'state': 'GA',\n",
       "   'display_address': ['2860 LaVista Rd', 'Decatur, GA 30033']},\n",
       "  'phone': '+14042489700',\n",
       "  'display_phone': '(404) 248-9700',\n",
       "  'distance': 1426.73635051625},\n",
       " {'id': 'KWv9pp8Jo6O2GkfFb9OLlg',\n",
       "  'alias': 'leons-full-service-decatur',\n",
       "  'name': \"Leon's Full Service\",\n",
       "  'image_url': 'https://s3-media1.fl.yelpcdn.com/bphoto/RtrN7vttWU9TLXcGhY2u5Q/o.jpg',\n",
       "  'is_closed': False,\n",
       "  'url': 'https://www.yelp.com/biz/leons-full-service-decatur?adjust_creative=7KT0rwzQNkV48V7vYExtqQ&utm_campaign=yelp_api_v3&utm_medium=api_v3_business_search&utm_source=7KT0rwzQNkV48V7vYExtqQ',\n",
       "  'review_count': 1137,\n",
       "  'categories': [{'alias': 'gastropubs', 'title': 'Gastropubs'},\n",
       "   {'alias': 'tradamerican', 'title': 'American'},\n",
       "   {'alias': 'cocktailbars', 'title': 'Cocktail Bars'}],\n",
       "  'rating': 4.1,\n",
       "  'coordinates': {'latitude': 33.775501989278, 'longitude': -84.2951466792275},\n",
       "  'transactions': ['delivery'],\n",
       "  'price': '$$',\n",
       "  'location': {'address1': '131 E Ponce De Leon Ave',\n",
       "   'address2': '',\n",
       "   'address3': '',\n",
       "   'city': 'Decatur',\n",
       "   'zip_code': '30030',\n",
       "   'country': 'US',\n",
       "   'state': 'GA',\n",
       "   'display_address': ['131 E Ponce De Leon Ave', 'Decatur, GA 30030']},\n",
       "  'phone': '+14046870500',\n",
       "  'display_phone': '(404) 687-0500',\n",
       "  'distance': 4244.889580737526},\n",
       " {'id': 'bx3oaFuP59JkrPGga2XJtw',\n",
       "  'alias': 'secreto-southern-kitchen-and-bar-brookhaven',\n",
       "  'name': 'Secreto Southern Kitchen & Bar',\n",
       "  'image_url': 'https://s3-media4.fl.yelpcdn.com/bphoto/cp5pKiMvaLtZaAuhv9ZcSg/o.jpg',\n",
       "  'is_closed': False,\n",
       "  'url': 'https://www.yelp.com/biz/secreto-southern-kitchen-and-bar-brookhaven?adjust_creative=7KT0rwzQNkV48V7vYExtqQ&utm_campaign=yelp_api_v3&utm_medium=api_v3_business_search&utm_source=7KT0rwzQNkV48V7vYExtqQ',\n",
       "  'review_count': 273,\n",
       "  'categories': [{'alias': 'southern', 'title': 'Southern'},\n",
       "   {'alias': 'cocktailbars', 'title': 'Cocktail Bars'}],\n",
       "  'rating': 4.5,\n",
       "  'coordinates': {'latitude': 33.891315, 'longitude': -84.321622},\n",
       "  'transactions': ['delivery', 'pickup'],\n",
       "  'price': '$$',\n",
       "  'location': {'address1': '3575 Durden Dr NE',\n",
       "   'address2': 'Ste 201',\n",
       "   'address3': '',\n",
       "   'city': 'Brookhaven',\n",
       "   'zip_code': '30319',\n",
       "   'country': 'US',\n",
       "   'state': 'GA',\n",
       "   'display_address': ['3575 Durden Dr NE',\n",
       "    'Ste 201',\n",
       "    'Brookhaven, GA 30319']},\n",
       "  'phone': '+14703958989',\n",
       "  'display_phone': '(470) 395-8989',\n",
       "  'distance': 9263.87640502945},\n",
       " {'id': 'B1utosVn_70fiRUxJQRKgA',\n",
       "  'alias': 'the-white-bull-decatur',\n",
       "  'name': 'The White Bull',\n",
       "  'image_url': 'https://s3-media1.fl.yelpcdn.com/bphoto/GKJn2aQs7SQRlkJ_9OAbqA/o.jpg',\n",
       "  'is_closed': False,\n",
       "  'url': 'https://www.yelp.com/biz/the-white-bull-decatur?adjust_creative=7KT0rwzQNkV48V7vYExtqQ&utm_campaign=yelp_api_v3&utm_medium=api_v3_business_search&utm_source=7KT0rwzQNkV48V7vYExtqQ',\n",
       "  'review_count': 425,\n",
       "  'categories': [{'alias': 'newamerican', 'title': 'New American'},\n",
       "   {'alias': 'italian', 'title': 'Italian'},\n",
       "   {'alias': 'cocktailbars', 'title': 'Cocktail Bars'}],\n",
       "  'rating': 4.3,\n",
       "  'coordinates': {'latitude': 33.775061, 'longitude': -84.295804},\n",
       "  'transactions': ['delivery'],\n",
       "  'price': '$$$',\n",
       "  'location': {'address1': '123 E Court Square',\n",
       "   'address2': '',\n",
       "   'address3': None,\n",
       "   'city': 'Decatur',\n",
       "   'zip_code': '30030',\n",
       "   'country': 'US',\n",
       "   'state': 'GA',\n",
       "   'display_address': ['123 E Court Square', 'Decatur, GA 30030']},\n",
       "  'phone': '+14046005649',\n",
       "  'display_phone': '(404) 600-5649',\n",
       "  'distance': 4304.101697738176},\n",
       " {'id': 'T9Dj6Wvard-BeguFO05J5A',\n",
       "  'alias': 'kindred-decatur',\n",
       "  'name': 'Kindred',\n",
       "  'image_url': 'https://s3-media4.fl.yelpcdn.com/bphoto/D6O2jFCaBmrRvd0xPEDDTQ/o.jpg',\n",
       "  'is_closed': False,\n",
       "  'url': 'https://www.yelp.com/biz/kindred-decatur?adjust_creative=7KT0rwzQNkV48V7vYExtqQ&utm_campaign=yelp_api_v3&utm_medium=api_v3_business_search&utm_source=7KT0rwzQNkV48V7vYExtqQ',\n",
       "  'review_count': 36,\n",
       "  'categories': [{'alias': 'newamerican', 'title': 'New American'},\n",
       "   {'alias': 'steak', 'title': 'Steakhouses'}],\n",
       "  'rating': 4.0,\n",
       "  'coordinates': {'latitude': 33.8243, 'longitude': -84.2940148},\n",
       "  'transactions': [],\n",
       "  'location': {'address1': '2751 Lavista Rd',\n",
       "   'address2': '',\n",
       "   'address3': None,\n",
       "   'city': 'Decatur',\n",
       "   'zip_code': '30033',\n",
       "   'country': 'US',\n",
       "   'state': 'GA',\n",
       "   'display_address': ['2751 Lavista Rd', 'Decatur, GA 30033']},\n",
       "  'phone': '+14043308336',\n",
       "  'display_phone': '(404) 330-8336',\n",
       "  'distance': 1355.668197015417},\n",
       " {'id': 'xQRUUMx286uBH8oouZJ0aw',\n",
       "  'alias': 'meltons-app-and-tap-decatur',\n",
       "  'name': \"Melton's App & Tap\",\n",
       "  'image_url': 'https://s3-media2.fl.yelpcdn.com/bphoto/-JmPOC1E9KK96aoyUELjoQ/o.jpg',\n",
       "  'is_closed': False,\n",
       "  'url': 'https://www.yelp.com/biz/meltons-app-and-tap-decatur?adjust_creative=7KT0rwzQNkV48V7vYExtqQ&utm_campaign=yelp_api_v3&utm_medium=api_v3_business_search&utm_source=7KT0rwzQNkV48V7vYExtqQ',\n",
       "  'review_count': 240,\n",
       "  'categories': [{'alias': 'burgers', 'title': 'Burgers'},\n",
       "   {'alias': 'tradamerican', 'title': 'American'},\n",
       "   {'alias': 'bars', 'title': 'Bars'}],\n",
       "  'rating': 4.1,\n",
       "  'coordinates': {'latitude': 33.7940643860375, 'longitude': -84.290921336766},\n",
       "  'transactions': ['delivery', 'pickup'],\n",
       "  'price': '$$',\n",
       "  'location': {'address1': '2500 N Decatur Rd',\n",
       "   'address2': '',\n",
       "   'address3': '',\n",
       "   'city': 'Decatur',\n",
       "   'zip_code': '30033',\n",
       "   'country': 'US',\n",
       "   'state': 'GA',\n",
       "   'display_address': ['2500 N Decatur Rd', 'Decatur, GA 30033']},\n",
       "  'phone': '+14046349112',\n",
       "  'display_phone': '(404) 634-9112',\n",
       "  'distance': 2144.4908270606643},\n",
       " {'id': 'TDvnkXWrEj4vBfeAgDDiRQ',\n",
       "  'alias': 'postino-buckhead-atlanta-3',\n",
       "  'name': 'Postino Buckhead',\n",
       "  'image_url': 'https://s3-media1.fl.yelpcdn.com/bphoto/TcnWsJSZeKVN--ErSVrG6g/o.jpg',\n",
       "  'is_closed': False,\n",
       "  'url': 'https://www.yelp.com/biz/postino-buckhead-atlanta-3?adjust_creative=7KT0rwzQNkV48V7vYExtqQ&utm_campaign=yelp_api_v3&utm_medium=api_v3_business_search&utm_source=7KT0rwzQNkV48V7vYExtqQ',\n",
       "  'review_count': 167,\n",
       "  'categories': [{'alias': 'wine_bars', 'title': 'Wine Bars'},\n",
       "   {'alias': 'breakfast_brunch', 'title': 'Breakfast & Brunch'},\n",
       "   {'alias': 'catering', 'title': 'Caterers'}],\n",
       "  'rating': 4.3,\n",
       "  'coordinates': {'latitude': 33.85494, 'longitude': -84.38251},\n",
       "  'transactions': ['delivery', 'pickup'],\n",
       "  'price': '$$',\n",
       "  'location': {'address1': '3655 Roswell Rd NE',\n",
       "   'address2': 'Ste 300',\n",
       "   'address3': None,\n",
       "   'city': 'Atlanta',\n",
       "   'zip_code': '30342',\n",
       "   'country': 'US',\n",
       "   'state': 'GA',\n",
       "   'display_address': ['3655 Roswell Rd NE', 'Ste 300', 'Atlanta, GA 30342']},\n",
       "  'phone': '+16786081955',\n",
       "  'display_phone': '(678) 608-1955',\n",
       "  'distance': 9926.759293549816},\n",
       " {'id': 'LoMpMSfzVd1g-5szne8V3w',\n",
       "  'alias': 'sun-in-my-belly-atlanta-12',\n",
       "  'name': 'Sun in My Belly',\n",
       "  'image_url': 'https://s3-media2.fl.yelpcdn.com/bphoto/56lUCOhfrE-8Ul6a62hWkA/o.jpg',\n",
       "  'is_closed': False,\n",
       "  'url': 'https://www.yelp.com/biz/sun-in-my-belly-atlanta-12?adjust_creative=7KT0rwzQNkV48V7vYExtqQ&utm_campaign=yelp_api_v3&utm_medium=api_v3_business_search&utm_source=7KT0rwzQNkV48V7vYExtqQ',\n",
       "  'review_count': 1430,\n",
       "  'categories': [{'alias': 'breakfast_brunch', 'title': 'Breakfast & Brunch'},\n",
       "   {'alias': 'desserts', 'title': 'Desserts'},\n",
       "   {'alias': 'coffee', 'title': 'Coffee & Tea'}],\n",
       "  'rating': 4.0,\n",
       "  'coordinates': {'latitude': 33.76397, 'longitude': -84.3165},\n",
       "  'transactions': ['delivery', 'pickup'],\n",
       "  'price': '$$',\n",
       "  'location': {'address1': '2161 College Ave NE',\n",
       "   'address2': None,\n",
       "   'address3': '',\n",
       "   'city': 'Atlanta',\n",
       "   'zip_code': '30317',\n",
       "   'country': 'US',\n",
       "   'state': 'GA',\n",
       "   'display_address': ['2161 College Ave NE', 'Atlanta, GA 30317']},\n",
       "  'phone': '+14043701088',\n",
       "  'display_phone': '(404) 370-1088',\n",
       "  'distance': 6098.68857307983},\n",
       " {'id': 'kaM6vh1hRpL_qh9zFodGTw',\n",
       "  'alias': 'southbound-chamblee',\n",
       "  'name': 'Southbound',\n",
       "  'image_url': 'https://s3-media3.fl.yelpcdn.com/bphoto/j3fjpPPe_Skjoz0jZJ47bQ/o.jpg',\n",
       "  'is_closed': False,\n",
       "  'url': 'https://www.yelp.com/biz/southbound-chamblee?adjust_creative=7KT0rwzQNkV48V7vYExtqQ&utm_campaign=yelp_api_v3&utm_medium=api_v3_business_search&utm_source=7KT0rwzQNkV48V7vYExtqQ',\n",
       "  'review_count': 825,\n",
       "  'categories': [{'alias': 'southern', 'title': 'Southern'},\n",
       "   {'alias': 'cocktailbars', 'title': 'Cocktail Bars'},\n",
       "   {'alias': 'venues', 'title': 'Venues & Event Spaces'}],\n",
       "  'rating': 4.0,\n",
       "  'coordinates': {'latitude': 33.89234, 'longitude': -84.30109},\n",
       "  'transactions': ['delivery', 'pickup'],\n",
       "  'price': '$$',\n",
       "  'location': {'address1': '5394 Peachtree Rd',\n",
       "   'address2': '',\n",
       "   'address3': '',\n",
       "   'city': 'Chamblee',\n",
       "   'zip_code': '30341',\n",
       "   'country': 'US',\n",
       "   'state': 'GA',\n",
       "   'display_address': ['5394 Peachtree Rd', 'Chamblee, GA 30341']},\n",
       "  'phone': '+16785805579',\n",
       "  'display_phone': '(678) 580-5579',\n",
       "  'distance': 8900.600383059797},\n",
       " {'id': 'c69hEkVw1bVgq1rGQVof6A',\n",
       "  'alias': 'lagarde-american-eatery-chamblee',\n",
       "  'name': 'Lagarde American Eatery',\n",
       "  'image_url': 'https://s3-media3.fl.yelpcdn.com/bphoto/fcrXpVG3u0kMiir1wHXaCQ/o.jpg',\n",
       "  'is_closed': False,\n",
       "  'url': 'https://www.yelp.com/biz/lagarde-american-eatery-chamblee?adjust_creative=7KT0rwzQNkV48V7vYExtqQ&utm_campaign=yelp_api_v3&utm_medium=api_v3_business_search&utm_source=7KT0rwzQNkV48V7vYExtqQ',\n",
       "  'review_count': 256,\n",
       "  'categories': [{'alias': 'newamerican', 'title': 'New American'},\n",
       "   {'alias': 'southern', 'title': 'Southern'},\n",
       "   {'alias': 'seafood', 'title': 'Seafood'}],\n",
       "  'rating': 4.3,\n",
       "  'coordinates': {'latitude': 33.8886577, 'longitude': -84.3135283},\n",
       "  'transactions': ['delivery'],\n",
       "  'price': '$$',\n",
       "  'location': {'address1': '5090 Peachtree Blvd',\n",
       "   'address2': 'Ste D-100',\n",
       "   'address3': '',\n",
       "   'city': 'Chamblee',\n",
       "   'zip_code': '30341',\n",
       "   'country': 'US',\n",
       "   'state': 'GA',\n",
       "   'display_address': ['5090 Peachtree Blvd',\n",
       "    'Ste D-100',\n",
       "    'Chamblee, GA 30341']},\n",
       "  'phone': '+14703853533',\n",
       "  'display_phone': '(470) 385-3533',\n",
       "  'distance': 8820.73844138867},\n",
       " {'id': 'Rsw_KSmFGd3n1HOD0mbDIA',\n",
       "  'alias': 'pea-ridge-kitchen-and-bar-decatur',\n",
       "  'name': 'Pea Ridge Kitchen and Bar',\n",
       "  'image_url': 'https://s3-media2.fl.yelpcdn.com/bphoto/JTPyYFdDHhf7y6pCAC_-BA/o.jpg',\n",
       "  'is_closed': False,\n",
       "  'url': 'https://www.yelp.com/biz/pea-ridge-kitchen-and-bar-decatur?adjust_creative=7KT0rwzQNkV48V7vYExtqQ&utm_campaign=yelp_api_v3&utm_medium=api_v3_business_search&utm_source=7KT0rwzQNkV48V7vYExtqQ',\n",
       "  'review_count': 222,\n",
       "  'categories': [{'alias': 'newamerican', 'title': 'New American'},\n",
       "   {'alias': 'bars', 'title': 'Bars'}],\n",
       "  'rating': 4.2,\n",
       "  'coordinates': {'latitude': 33.822852963974846, 'longitude': -84.2620575},\n",
       "  'transactions': ['delivery', 'pickup'],\n",
       "  'price': '$$',\n",
       "  'location': {'address1': '2607 Lawrenceville Hwy',\n",
       "   'address2': '',\n",
       "   'address3': '',\n",
       "   'city': 'Decatur',\n",
       "   'zip_code': '30033',\n",
       "   'country': 'US',\n",
       "   'state': 'GA',\n",
       "   'display_address': ['2607 Lawrenceville Hwy', 'Decatur, GA 30033']},\n",
       "  'phone': '+14702684051',\n",
       "  'display_phone': '(470) 268-4051',\n",
       "  'distance': 2556.3745101141353},\n",
       " {'id': 'F0eaHDnN_-zF7KPZu1a2NQ',\n",
       "  'alias': 'industry-tavern-atlanta',\n",
       "  'name': 'Industry Tavern',\n",
       "  'image_url': 'https://s3-media4.fl.yelpcdn.com/bphoto/6ftlgptH4jRPGIp1H5GYNA/o.jpg',\n",
       "  'is_closed': False,\n",
       "  'url': 'https://www.yelp.com/biz/industry-tavern-atlanta?adjust_creative=7KT0rwzQNkV48V7vYExtqQ&utm_campaign=yelp_api_v3&utm_medium=api_v3_business_search&utm_source=7KT0rwzQNkV48V7vYExtqQ',\n",
       "  'review_count': 709,\n",
       "  'categories': [{'alias': 'newamerican', 'title': 'New American'},\n",
       "   {'alias': 'sportsbars', 'title': 'Sports Bars'},\n",
       "   {'alias': 'pizza', 'title': 'Pizza'}],\n",
       "  'rating': 4.1,\n",
       "  'coordinates': {'latitude': 33.8452336367562,\n",
       "   'longitude': -84.3712960294998},\n",
       "  'transactions': ['delivery', 'pickup'],\n",
       "  'price': '$$',\n",
       "  'location': {'address1': '3280 Peachtree Rd NE',\n",
       "   'address2': 'Ste 185',\n",
       "   'address3': '',\n",
       "   'city': 'Atlanta',\n",
       "   'zip_code': '30305',\n",
       "   'country': 'US',\n",
       "   'state': 'GA',\n",
       "   'display_address': ['3280 Peachtree Rd NE',\n",
       "    'Ste 185',\n",
       "    'Atlanta, GA 30305']},\n",
       "  'phone': '+14042544468',\n",
       "  'display_phone': '(404) 254-4468',\n",
       "  'distance': 8558.443484139052},\n",
       " {'id': 'lF08WbDKEvueDkuLPr8v8w',\n",
       "  'alias': 'ranger-station-atlanta-2',\n",
       "  'name': 'Ranger Station',\n",
       "  'image_url': 'https://s3-media2.fl.yelpcdn.com/bphoto/WuGs7lCOi2SA_6bs_4AfJw/o.jpg',\n",
       "  'is_closed': False,\n",
       "  'url': 'https://www.yelp.com/biz/ranger-station-atlanta-2?adjust_creative=7KT0rwzQNkV48V7vYExtqQ&utm_campaign=yelp_api_v3&utm_medium=api_v3_business_search&utm_source=7KT0rwzQNkV48V7vYExtqQ',\n",
       "  'review_count': 35,\n",
       "  'categories': [{'alias': 'cocktailbars', 'title': 'Cocktail Bars'}],\n",
       "  'rating': 4.6,\n",
       "  'coordinates': {'latitude': 33.759784, 'longitude': -84.364382},\n",
       "  'transactions': [],\n",
       "  'price': '$$',\n",
       "  'location': {'address1': '684 John Wesley Dobbs Ave NE',\n",
       "   'address2': None,\n",
       "   'address3': '',\n",
       "   'city': 'Atlanta',\n",
       "   'zip_code': '30312',\n",
       "   'country': 'US',\n",
       "   'state': 'GA',\n",
       "   'display_address': ['684 John Wesley Dobbs Ave NE', 'Atlanta, GA 30312']},\n",
       "  'phone': '',\n",
       "  'display_phone': '',\n",
       "  'distance': 9291.32807240253},\n",
       " {'id': 'KAOywyI3bjQuNif3gM-LTA',\n",
       "  'alias': 'brick-store-pub-decatur',\n",
       "  'name': 'Brick Store Pub',\n",
       "  'image_url': 'https://s3-media3.fl.yelpcdn.com/bphoto/sft2Mzym3oW9i7PLDnb2SQ/o.jpg',\n",
       "  'is_closed': False,\n",
       "  'url': 'https://www.yelp.com/biz/brick-store-pub-decatur?adjust_creative=7KT0rwzQNkV48V7vYExtqQ&utm_campaign=yelp_api_v3&utm_medium=api_v3_business_search&utm_source=7KT0rwzQNkV48V7vYExtqQ',\n",
       "  'review_count': 1433,\n",
       "  'categories': [{'alias': 'pubs', 'title': 'Pubs'},\n",
       "   {'alias': 'tradamerican', 'title': 'American'}],\n",
       "  'rating': 4.4,\n",
       "  'coordinates': {'latitude': 33.77514166924599,\n",
       "   'longitude': -84.29579930216089},\n",
       "  'transactions': ['delivery'],\n",
       "  'price': '$$',\n",
       "  'location': {'address1': '125 E Ct Sq',\n",
       "   'address2': '',\n",
       "   'address3': '',\n",
       "   'city': 'Decatur',\n",
       "   'zip_code': '30030',\n",
       "   'country': 'US',\n",
       "   'state': 'GA',\n",
       "   'display_address': ['125 E Ct Sq', 'Decatur, GA 30030']},\n",
       "  'phone': '+14046870990',\n",
       "  'display_phone': '(404) 687-0990',\n",
       "  'distance': 4295.208440295579}]"
      ]
     },
     "execution_count": 19,
     "metadata": {},
     "output_type": "execute_result"
    }
   ],
   "source": [
    "# Explore each key\n",
    "results['businesses']"
   ]
  },
  {
   "cell_type": "code",
   "execution_count": 20,
   "id": "ca416f9a-37e8-4611-a638-36add9791dff",
   "metadata": {},
   "outputs": [
    {
     "data": {
      "text/plain": [
       "802"
      ]
     },
     "execution_count": 20,
     "metadata": {},
     "output_type": "execute_result"
    }
   ],
   "source": [
    "# Explore each key\n",
    "results['total']"
   ]
  },
  {
   "cell_type": "code",
   "execution_count": 21,
   "id": "33d46c69-a150-460d-9394-075d9e5a9f96",
   "metadata": {},
   "outputs": [
    {
     "data": {
      "text/plain": [
       "{'center': {'longitude': -84.287109375, 'latitude': 33.813088376606714}}"
      ]
     },
     "execution_count": 21,
     "metadata": {},
     "output_type": "execute_result"
    }
   ],
   "source": [
    "# Explore each key\n",
    "results['region']"
   ]
  },
  {
   "cell_type": "code",
   "execution_count": 22,
   "id": "8e581cb8-b8bc-48a8-9732-c2d96252841d",
   "metadata": {},
   "outputs": [
    {
     "data": {
      "text/plain": [
       "list"
      ]
     },
     "execution_count": 22,
     "metadata": {},
     "output_type": "execute_result"
    }
   ],
   "source": [
    "# What is the datatype for the businesses?\n",
    "type(results['businesses'])"
   ]
  },
  {
   "cell_type": "code",
   "execution_count": 23,
   "id": "7b4010cd-f79f-4119-a727-76c7f68e2a75",
   "metadata": {},
   "outputs": [
    {
     "data": {
      "text/plain": [
       "{'id': '-y7EeIOjoFnNjdnBXc23hg',\n",
       " 'alias': 'the-kitchen-decatur',\n",
       " 'name': 'The Kitchen',\n",
       " 'image_url': 'https://s3-media1.fl.yelpcdn.com/bphoto/lfzSmE_pch8lOFv-I3Lhpg/o.jpg',\n",
       " 'is_closed': False,\n",
       " 'url': 'https://www.yelp.com/biz/the-kitchen-decatur?adjust_creative=7KT0rwzQNkV48V7vYExtqQ&utm_campaign=yelp_api_v3&utm_medium=api_v3_business_search&utm_source=7KT0rwzQNkV48V7vYExtqQ',\n",
       " 'review_count': 93,\n",
       " 'categories': [{'alias': 'tradamerican', 'title': 'American'},\n",
       "  {'alias': 'soulfood', 'title': 'Soul Food'},\n",
       "  {'alias': 'breakfast_brunch', 'title': 'Breakfast & Brunch'}],\n",
       " 'rating': 4.3,\n",
       " 'coordinates': {'latitude': 33.77842, 'longitude': -84.27765},\n",
       " 'transactions': ['delivery', 'pickup'],\n",
       " 'price': '$$',\n",
       " 'location': {'address1': '2752 E Ponce De Leon Ave',\n",
       "  'address2': 'Ste A1',\n",
       "  'address3': '',\n",
       "  'city': 'Decatur',\n",
       "  'zip_code': '30030',\n",
       "  'country': 'US',\n",
       "  'state': 'GA',\n",
       "  'display_address': ['2752 E Ponce De Leon Ave',\n",
       "   'Ste A1',\n",
       "   'Decatur, GA 30030']},\n",
       " 'phone': '+14043433806',\n",
       " 'display_phone': '(404) 343-3806',\n",
       " 'distance': 3955.6053393219177}"
      ]
     },
     "execution_count": 23,
     "metadata": {},
     "output_type": "execute_result"
    }
   ],
   "source": [
    "# Display first result from the list of dictionaries\n",
    "results['businesses'][0]"
   ]
  },
  {
   "cell_type": "code",
   "execution_count": 24,
   "id": "e36dced0-d43b-4b82-b5c7-aa495d494322",
   "metadata": {},
   "outputs": [
    {
     "data": {
      "text/html": [
       "<div>\n",
       "<style scoped>\n",
       "    .dataframe tbody tr th:only-of-type {\n",
       "        vertical-align: middle;\n",
       "    }\n",
       "\n",
       "    .dataframe tbody tr th {\n",
       "        vertical-align: top;\n",
       "    }\n",
       "\n",
       "    .dataframe thead th {\n",
       "        text-align: right;\n",
       "    }\n",
       "</style>\n",
       "<table border=\"1\" class=\"dataframe\">\n",
       "  <thead>\n",
       "    <tr style=\"text-align: right;\">\n",
       "      <th></th>\n",
       "      <th>id</th>\n",
       "      <th>alias</th>\n",
       "      <th>name</th>\n",
       "      <th>image_url</th>\n",
       "      <th>is_closed</th>\n",
       "      <th>url</th>\n",
       "      <th>review_count</th>\n",
       "      <th>categories</th>\n",
       "      <th>rating</th>\n",
       "      <th>coordinates</th>\n",
       "      <th>transactions</th>\n",
       "      <th>price</th>\n",
       "      <th>location</th>\n",
       "      <th>phone</th>\n",
       "      <th>display_phone</th>\n",
       "      <th>distance</th>\n",
       "    </tr>\n",
       "  </thead>\n",
       "  <tbody>\n",
       "    <tr>\n",
       "      <th>0</th>\n",
       "      <td>-y7EeIOjoFnNjdnBXc23hg</td>\n",
       "      <td>the-kitchen-decatur</td>\n",
       "      <td>The Kitchen</td>\n",
       "      <td>https://s3-media1.fl.yelpcdn.com/bphoto/lfzSmE...</td>\n",
       "      <td>False</td>\n",
       "      <td>https://www.yelp.com/biz/the-kitchen-decatur?a...</td>\n",
       "      <td>93</td>\n",
       "      <td>[{'alias': 'tradamerican', 'title': 'American'...</td>\n",
       "      <td>4.3</td>\n",
       "      <td>{'latitude': 33.77842, 'longitude': -84.27765}</td>\n",
       "      <td>[delivery, pickup]</td>\n",
       "      <td>$$</td>\n",
       "      <td>{'address1': '2752 E Ponce De Leon Ave', 'addr...</td>\n",
       "      <td>+14043433806</td>\n",
       "      <td>(404) 343-3806</td>\n",
       "      <td>3955.605339</td>\n",
       "    </tr>\n",
       "    <tr>\n",
       "      <th>1</th>\n",
       "      <td>U4K4dCTtGeNNPUtDaC3HHg</td>\n",
       "      <td>wheelhouse-craft-pub-and-kitchen-decatur</td>\n",
       "      <td>Wheelhouse Craft Pub And Kitchen</td>\n",
       "      <td>https://s3-media3.fl.yelpcdn.com/bphoto/GF2sVV...</td>\n",
       "      <td>False</td>\n",
       "      <td>https://www.yelp.com/biz/wheelhouse-craft-pub-...</td>\n",
       "      <td>187</td>\n",
       "      <td>[{'alias': 'pubs', 'title': 'Pubs'}, {'alias':...</td>\n",
       "      <td>4.6</td>\n",
       "      <td>{'latitude': 33.792788, 'longitude': -84.290715}</td>\n",
       "      <td>[pickup]</td>\n",
       "      <td>$$</td>\n",
       "      <td>{'address1': '1479 Scott Blvd', 'address2': ''...</td>\n",
       "      <td>+14702404945</td>\n",
       "      <td>(470) 240-4945</td>\n",
       "      <td>2274.825994</td>\n",
       "    </tr>\n",
       "    <tr>\n",
       "      <th>2</th>\n",
       "      <td>dfL1KYHtcs6YaFVx-nZTdQ</td>\n",
       "      <td>whiskey-bird-atlanta</td>\n",
       "      <td>Whiskey Bird</td>\n",
       "      <td>https://s3-media4.fl.yelpcdn.com/bphoto/QAGt0x...</td>\n",
       "      <td>False</td>\n",
       "      <td>https://www.yelp.com/biz/whiskey-bird-atlanta?...</td>\n",
       "      <td>642</td>\n",
       "      <td>[{'alias': 'newamerican', 'title': 'New Americ...</td>\n",
       "      <td>4.4</td>\n",
       "      <td>{'latitude': 33.792656, 'longitude': -84.351852}</td>\n",
       "      <td>[delivery]</td>\n",
       "      <td>$$</td>\n",
       "      <td>{'address1': '1409 N Highland Ave NE', 'addres...</td>\n",
       "      <td>+14045000575</td>\n",
       "      <td>(404) 500-0575</td>\n",
       "      <td>6399.007374</td>\n",
       "    </tr>\n",
       "    <tr>\n",
       "      <th>3</th>\n",
       "      <td>yyakxBb3bLHcnIxHUKJNgw</td>\n",
       "      <td>the-general-muir-atlanta</td>\n",
       "      <td>The General Muir</td>\n",
       "      <td>https://s3-media1.fl.yelpcdn.com/bphoto/eFOWuz...</td>\n",
       "      <td>False</td>\n",
       "      <td>https://www.yelp.com/biz/the-general-muir-atla...</td>\n",
       "      <td>1241</td>\n",
       "      <td>[{'alias': 'delis', 'title': 'Delis'}, {'alias...</td>\n",
       "      <td>4.0</td>\n",
       "      <td>{'latitude': 33.8009687, 'longitude': -84.3274...</td>\n",
       "      <td>[delivery]</td>\n",
       "      <td>$$</td>\n",
       "      <td>{'address1': '1540 Avenue Pl', 'address2': 'St...</td>\n",
       "      <td>+16789279131</td>\n",
       "      <td>(678) 927-9131</td>\n",
       "      <td>3966.477078</td>\n",
       "    </tr>\n",
       "    <tr>\n",
       "      <th>4</th>\n",
       "      <td>bJJK4Hgzdedu98FgtKi56Q</td>\n",
       "      <td>brew-and-bird-decatur-2</td>\n",
       "      <td>Brew and Bird</td>\n",
       "      <td>https://s3-media1.fl.yelpcdn.com/bphoto/rYwox5...</td>\n",
       "      <td>False</td>\n",
       "      <td>https://www.yelp.com/biz/brew-and-bird-decatur...</td>\n",
       "      <td>194</td>\n",
       "      <td>[{'alias': 'beerbar', 'title': 'Beer Bar'}, {'...</td>\n",
       "      <td>4.3</td>\n",
       "      <td>{'latitude': 33.792235, 'longitude': -84.30513...</td>\n",
       "      <td>[delivery, pickup]</td>\n",
       "      <td>$$</td>\n",
       "      <td>{'address1': '1355 Clairmont Rd', 'address2': ...</td>\n",
       "      <td>+14042055566</td>\n",
       "      <td>(404) 205-5566</td>\n",
       "      <td>2858.554068</td>\n",
       "    </tr>\n",
       "  </tbody>\n",
       "</table>\n",
       "</div>"
      ],
      "text/plain": [
       "                       id                                     alias  \\\n",
       "0  -y7EeIOjoFnNjdnBXc23hg                       the-kitchen-decatur   \n",
       "1  U4K4dCTtGeNNPUtDaC3HHg  wheelhouse-craft-pub-and-kitchen-decatur   \n",
       "2  dfL1KYHtcs6YaFVx-nZTdQ                      whiskey-bird-atlanta   \n",
       "3  yyakxBb3bLHcnIxHUKJNgw                  the-general-muir-atlanta   \n",
       "4  bJJK4Hgzdedu98FgtKi56Q                   brew-and-bird-decatur-2   \n",
       "\n",
       "                               name  \\\n",
       "0                       The Kitchen   \n",
       "1  Wheelhouse Craft Pub And Kitchen   \n",
       "2                      Whiskey Bird   \n",
       "3                  The General Muir   \n",
       "4                     Brew and Bird   \n",
       "\n",
       "                                           image_url  is_closed  \\\n",
       "0  https://s3-media1.fl.yelpcdn.com/bphoto/lfzSmE...      False   \n",
       "1  https://s3-media3.fl.yelpcdn.com/bphoto/GF2sVV...      False   \n",
       "2  https://s3-media4.fl.yelpcdn.com/bphoto/QAGt0x...      False   \n",
       "3  https://s3-media1.fl.yelpcdn.com/bphoto/eFOWuz...      False   \n",
       "4  https://s3-media1.fl.yelpcdn.com/bphoto/rYwox5...      False   \n",
       "\n",
       "                                                 url  review_count  \\\n",
       "0  https://www.yelp.com/biz/the-kitchen-decatur?a...            93   \n",
       "1  https://www.yelp.com/biz/wheelhouse-craft-pub-...           187   \n",
       "2  https://www.yelp.com/biz/whiskey-bird-atlanta?...           642   \n",
       "3  https://www.yelp.com/biz/the-general-muir-atla...          1241   \n",
       "4  https://www.yelp.com/biz/brew-and-bird-decatur...           194   \n",
       "\n",
       "                                          categories  rating  \\\n",
       "0  [{'alias': 'tradamerican', 'title': 'American'...     4.3   \n",
       "1  [{'alias': 'pubs', 'title': 'Pubs'}, {'alias':...     4.6   \n",
       "2  [{'alias': 'newamerican', 'title': 'New Americ...     4.4   \n",
       "3  [{'alias': 'delis', 'title': 'Delis'}, {'alias...     4.0   \n",
       "4  [{'alias': 'beerbar', 'title': 'Beer Bar'}, {'...     4.3   \n",
       "\n",
       "                                         coordinates        transactions  \\\n",
       "0     {'latitude': 33.77842, 'longitude': -84.27765}  [delivery, pickup]   \n",
       "1   {'latitude': 33.792788, 'longitude': -84.290715}            [pickup]   \n",
       "2   {'latitude': 33.792656, 'longitude': -84.351852}          [delivery]   \n",
       "3  {'latitude': 33.8009687, 'longitude': -84.3274...          [delivery]   \n",
       "4  {'latitude': 33.792235, 'longitude': -84.30513...  [delivery, pickup]   \n",
       "\n",
       "  price                                           location         phone  \\\n",
       "0    $$  {'address1': '2752 E Ponce De Leon Ave', 'addr...  +14043433806   \n",
       "1    $$  {'address1': '1479 Scott Blvd', 'address2': ''...  +14702404945   \n",
       "2    $$  {'address1': '1409 N Highland Ave NE', 'addres...  +14045000575   \n",
       "3    $$  {'address1': '1540 Avenue Pl', 'address2': 'St...  +16789279131   \n",
       "4    $$  {'address1': '1355 Clairmont Rd', 'address2': ...  +14042055566   \n",
       "\n",
       "    display_phone     distance  \n",
       "0  (404) 343-3806  3955.605339  \n",
       "1  (470) 240-4945  2274.825994  \n",
       "2  (404) 500-0575  6399.007374  \n",
       "3  (678) 927-9131  3966.477078  \n",
       "4  (404) 205-5566  2858.554068  "
      ]
     },
     "execution_count": 24,
     "metadata": {},
     "output_type": "execute_result"
    }
   ],
   "source": [
    "## We can convert the a list of dictionaries  to a datafram\n",
    "df = pd.DataFrame(results['businesses'])\n",
    "df.head()"
   ]
  },
  {
   "cell_type": "code",
   "execution_count": 25,
   "id": "827a3a97-ce85-4425-9b04-aedb1b499785",
   "metadata": {},
   "outputs": [
    {
     "data": {
      "text/plain": [
       "20"
      ]
     },
     "execution_count": 25,
     "metadata": {},
     "output_type": "execute_result"
    }
   ],
   "source": [
    "## How many did we get the details for?\n",
    "len(df)"
   ]
  },
  {
   "cell_type": "code",
   "execution_count": 26,
   "id": "c64a83e3-1145-4fd7-869b-b85b9cce7596",
   "metadata": {},
   "outputs": [
    {
     "data": {
      "text/plain": [
       "40.1"
      ]
     },
     "execution_count": 26,
     "metadata": {},
     "output_type": "execute_result"
    }
   ],
   "source": [
    "# How many pages are needed?\n",
    "n_pages = results['total']/len(df)\n",
    "n_pages"
   ]
  },
  {
   "cell_type": "code",
   "execution_count": 27,
   "id": "0b232f02-0122-466f-a40a-2921215918ff",
   "metadata": {},
   "outputs": [
    {
     "data": {
      "text/plain": [
       "41"
      ]
     },
     "execution_count": 27,
     "metadata": {},
     "output_type": "execute_result"
    }
   ],
   "source": [
    "# Use math.ceil to round up for the total number of pages of results.\n",
    "n_pages = math.ceil(n_pages)\n",
    "n_pages"
   ]
  },
  {
   "cell_type": "code",
   "execution_count": 28,
   "id": "035cccf8-f426-4b78-b92b-8fab6ba4e0c3",
   "metadata": {},
   "outputs": [],
   "source": [
    "## Read in results in progress file and check the length\n",
    "with open(JSON_FILE, 'r') as f:\n",
    "    previous_results = json.load(f)"
   ]
  },
  {
   "cell_type": "code",
   "execution_count": 29,
   "id": "8500716b-8ba5-4a7b-9739-6ec427eecf74",
   "metadata": {},
   "outputs": [
    {
     "data": {
      "text/plain": [
       "[]"
      ]
     },
     "execution_count": 29,
     "metadata": {},
     "output_type": "execute_result"
    }
   ],
   "source": [
    "# Preview the contents of the json file (hint, we expect this to be empty at this point)\n",
    "previous_results"
   ]
  },
  {
   "cell_type": "code",
   "execution_count": 30,
   "id": "5d995a1c-e74a-4630-9a47-15b7de07406f",
   "metadata": {},
   "outputs": [
    {
     "data": {
      "text/plain": [
       "0"
      ]
     },
     "execution_count": 30,
     "metadata": {},
     "output_type": "execute_result"
    }
   ],
   "source": [
    "# Determine how many results are present already (hint, we expect this to be 0 at this point\n",
    "len(previous_results)"
   ]
  },
  {
   "cell_type": "code",
   "execution_count": 31,
   "id": "85fa1bf6-2b25-4534-bfbf-728359da60c0",
   "metadata": {},
   "outputs": [
    {
     "data": {
      "application/vnd.jupyter.widget-view+json": {
       "model_id": "13c03e808f8e493ca02d09e62299a02c",
       "version_major": 2,
       "version_minor": 0
      },
      "text/plain": [
       "  0%|          | 0/41 [00:00<?, ?it/s]"
      ]
     },
     "metadata": {},
     "output_type": "display_data"
    }
   ],
   "source": [
    "# Make a loop to extract data from each page and save it to the JSON_FILE\n",
    "\n",
    "for i in tqdm_notebook(range(n_pages)): \n",
    "    ## The block of code we want to TRY to run\n",
    "    try:\n",
    "        time.sleep(.2)\n",
    "     \n",
    "       \n",
    "        ## Read in results in progress file and check the length\n",
    "        with open(JSON_FILE, 'r') as f:\n",
    "            previous_results = json.load(f)\n",
    "            \n",
    "        ## save number of results to use as offset for query\n",
    "        n_results = len(previous_results)\n",
    "        \n",
    "        \n",
    "        ## use n_results as the OFFSET \n",
    "        results = yelp_api.search_query(location = location, term = term, offset = n_results)  # Notice we added the offset to our search_query\n",
    "        \n",
    "\n",
    "        ## append new results and save to file  (extend is similar to append, but adds a list to a list)\n",
    "        previous_results.extend(results['businesses'])\n",
    "\n",
    "        with open(JSON_FILE, 'w') as f:\n",
    "            json.dump(previous_results, f)\n",
    "\n",
    "            \n",
    "    ## What to do if we get an error/exception.\n",
    "\n",
    "    except Exception as e:\n",
    "        print(' [!] ERROR', e)"
   ]
  },
  {
   "cell_type": "code",
   "execution_count": 32,
   "id": "9bd3391e-2bee-4279-909d-91b42f1bef73",
   "metadata": {},
   "outputs": [],
   "source": [
    "# Read the json file in as a df\n",
    "df = pd.read_json(JSON_FILE)"
   ]
  },
  {
   "cell_type": "code",
   "execution_count": 33,
   "id": "b17053f1-45ac-467c-a72d-8953fee9d4ac",
   "metadata": {},
   "outputs": [
    {
     "data": {
      "text/html": [
       "<div>\n",
       "<style scoped>\n",
       "    .dataframe tbody tr th:only-of-type {\n",
       "        vertical-align: middle;\n",
       "    }\n",
       "\n",
       "    .dataframe tbody tr th {\n",
       "        vertical-align: top;\n",
       "    }\n",
       "\n",
       "    .dataframe thead th {\n",
       "        text-align: right;\n",
       "    }\n",
       "</style>\n",
       "<table border=\"1\" class=\"dataframe\">\n",
       "  <thead>\n",
       "    <tr style=\"text-align: right;\">\n",
       "      <th></th>\n",
       "      <th>id</th>\n",
       "      <th>alias</th>\n",
       "      <th>name</th>\n",
       "      <th>image_url</th>\n",
       "      <th>is_closed</th>\n",
       "      <th>url</th>\n",
       "      <th>review_count</th>\n",
       "      <th>categories</th>\n",
       "      <th>rating</th>\n",
       "      <th>coordinates</th>\n",
       "      <th>transactions</th>\n",
       "      <th>price</th>\n",
       "      <th>location</th>\n",
       "      <th>phone</th>\n",
       "      <th>display_phone</th>\n",
       "      <th>distance</th>\n",
       "    </tr>\n",
       "  </thead>\n",
       "  <tbody>\n",
       "    <tr>\n",
       "      <th>0</th>\n",
       "      <td>-y7EeIOjoFnNjdnBXc23hg</td>\n",
       "      <td>the-kitchen-decatur</td>\n",
       "      <td>The Kitchen</td>\n",
       "      <td>https://s3-media1.fl.yelpcdn.com/bphoto/lfzSmE...</td>\n",
       "      <td>False</td>\n",
       "      <td>https://www.yelp.com/biz/the-kitchen-decatur?a...</td>\n",
       "      <td>93</td>\n",
       "      <td>[{'alias': 'tradamerican', 'title': 'American'...</td>\n",
       "      <td>4.3</td>\n",
       "      <td>{'latitude': 33.77842, 'longitude': -84.27765}</td>\n",
       "      <td>[pickup, delivery]</td>\n",
       "      <td>$$</td>\n",
       "      <td>{'address1': '2752 E Ponce De Leon Ave', 'addr...</td>\n",
       "      <td>+14043433806</td>\n",
       "      <td>(404) 343-3806</td>\n",
       "      <td>3955.605339</td>\n",
       "    </tr>\n",
       "    <tr>\n",
       "      <th>1</th>\n",
       "      <td>U4K4dCTtGeNNPUtDaC3HHg</td>\n",
       "      <td>wheelhouse-craft-pub-and-kitchen-decatur</td>\n",
       "      <td>Wheelhouse Craft Pub And Kitchen</td>\n",
       "      <td>https://s3-media3.fl.yelpcdn.com/bphoto/GF2sVV...</td>\n",
       "      <td>False</td>\n",
       "      <td>https://www.yelp.com/biz/wheelhouse-craft-pub-...</td>\n",
       "      <td>187</td>\n",
       "      <td>[{'alias': 'pubs', 'title': 'Pubs'}, {'alias':...</td>\n",
       "      <td>4.6</td>\n",
       "      <td>{'latitude': 33.792788, 'longitude': -84.290715}</td>\n",
       "      <td>[pickup]</td>\n",
       "      <td>$$</td>\n",
       "      <td>{'address1': '1479 Scott Blvd', 'address2': ''...</td>\n",
       "      <td>+14702404945</td>\n",
       "      <td>(470) 240-4945</td>\n",
       "      <td>2274.825994</td>\n",
       "    </tr>\n",
       "    <tr>\n",
       "      <th>2</th>\n",
       "      <td>dfL1KYHtcs6YaFVx-nZTdQ</td>\n",
       "      <td>whiskey-bird-atlanta</td>\n",
       "      <td>Whiskey Bird</td>\n",
       "      <td>https://s3-media4.fl.yelpcdn.com/bphoto/QAGt0x...</td>\n",
       "      <td>False</td>\n",
       "      <td>https://www.yelp.com/biz/whiskey-bird-atlanta?...</td>\n",
       "      <td>642</td>\n",
       "      <td>[{'alias': 'newamerican', 'title': 'New Americ...</td>\n",
       "      <td>4.4</td>\n",
       "      <td>{'latitude': 33.792656, 'longitude': -84.351852}</td>\n",
       "      <td>[delivery]</td>\n",
       "      <td>$$</td>\n",
       "      <td>{'address1': '1409 N Highland Ave NE', 'addres...</td>\n",
       "      <td>+14045000575</td>\n",
       "      <td>(404) 500-0575</td>\n",
       "      <td>6399.007374</td>\n",
       "    </tr>\n",
       "    <tr>\n",
       "      <th>3</th>\n",
       "      <td>yyakxBb3bLHcnIxHUKJNgw</td>\n",
       "      <td>the-general-muir-atlanta</td>\n",
       "      <td>The General Muir</td>\n",
       "      <td>https://s3-media1.fl.yelpcdn.com/bphoto/eFOWuz...</td>\n",
       "      <td>False</td>\n",
       "      <td>https://www.yelp.com/biz/the-general-muir-atla...</td>\n",
       "      <td>1241</td>\n",
       "      <td>[{'alias': 'delis', 'title': 'Delis'}, {'alias...</td>\n",
       "      <td>4.0</td>\n",
       "      <td>{'latitude': 33.8009687, 'longitude': -84.3274...</td>\n",
       "      <td>[delivery]</td>\n",
       "      <td>$$</td>\n",
       "      <td>{'address1': '1540 Avenue Pl', 'address2': 'St...</td>\n",
       "      <td>+16789279131</td>\n",
       "      <td>(678) 927-9131</td>\n",
       "      <td>3966.477078</td>\n",
       "    </tr>\n",
       "    <tr>\n",
       "      <th>4</th>\n",
       "      <td>bJJK4Hgzdedu98FgtKi56Q</td>\n",
       "      <td>brew-and-bird-decatur-2</td>\n",
       "      <td>Brew and Bird</td>\n",
       "      <td>https://s3-media1.fl.yelpcdn.com/bphoto/rYwox5...</td>\n",
       "      <td>False</td>\n",
       "      <td>https://www.yelp.com/biz/brew-and-bird-decatur...</td>\n",
       "      <td>194</td>\n",
       "      <td>[{'alias': 'beerbar', 'title': 'Beer Bar'}, {'...</td>\n",
       "      <td>4.3</td>\n",
       "      <td>{'latitude': 33.792235, 'longitude': -84.30513...</td>\n",
       "      <td>[pickup, delivery]</td>\n",
       "      <td>$$</td>\n",
       "      <td>{'address1': '1355 Clairmont Rd', 'address2': ...</td>\n",
       "      <td>+14042055566</td>\n",
       "      <td>(404) 205-5566</td>\n",
       "      <td>2858.554068</td>\n",
       "    </tr>\n",
       "  </tbody>\n",
       "</table>\n",
       "</div>"
      ],
      "text/plain": [
       "                       id                                     alias  \\\n",
       "0  -y7EeIOjoFnNjdnBXc23hg                       the-kitchen-decatur   \n",
       "1  U4K4dCTtGeNNPUtDaC3HHg  wheelhouse-craft-pub-and-kitchen-decatur   \n",
       "2  dfL1KYHtcs6YaFVx-nZTdQ                      whiskey-bird-atlanta   \n",
       "3  yyakxBb3bLHcnIxHUKJNgw                  the-general-muir-atlanta   \n",
       "4  bJJK4Hgzdedu98FgtKi56Q                   brew-and-bird-decatur-2   \n",
       "\n",
       "                               name  \\\n",
       "0                       The Kitchen   \n",
       "1  Wheelhouse Craft Pub And Kitchen   \n",
       "2                      Whiskey Bird   \n",
       "3                  The General Muir   \n",
       "4                     Brew and Bird   \n",
       "\n",
       "                                           image_url  is_closed  \\\n",
       "0  https://s3-media1.fl.yelpcdn.com/bphoto/lfzSmE...      False   \n",
       "1  https://s3-media3.fl.yelpcdn.com/bphoto/GF2sVV...      False   \n",
       "2  https://s3-media4.fl.yelpcdn.com/bphoto/QAGt0x...      False   \n",
       "3  https://s3-media1.fl.yelpcdn.com/bphoto/eFOWuz...      False   \n",
       "4  https://s3-media1.fl.yelpcdn.com/bphoto/rYwox5...      False   \n",
       "\n",
       "                                                 url  review_count  \\\n",
       "0  https://www.yelp.com/biz/the-kitchen-decatur?a...            93   \n",
       "1  https://www.yelp.com/biz/wheelhouse-craft-pub-...           187   \n",
       "2  https://www.yelp.com/biz/whiskey-bird-atlanta?...           642   \n",
       "3  https://www.yelp.com/biz/the-general-muir-atla...          1241   \n",
       "4  https://www.yelp.com/biz/brew-and-bird-decatur...           194   \n",
       "\n",
       "                                          categories  rating  \\\n",
       "0  [{'alias': 'tradamerican', 'title': 'American'...     4.3   \n",
       "1  [{'alias': 'pubs', 'title': 'Pubs'}, {'alias':...     4.6   \n",
       "2  [{'alias': 'newamerican', 'title': 'New Americ...     4.4   \n",
       "3  [{'alias': 'delis', 'title': 'Delis'}, {'alias...     4.0   \n",
       "4  [{'alias': 'beerbar', 'title': 'Beer Bar'}, {'...     4.3   \n",
       "\n",
       "                                         coordinates        transactions  \\\n",
       "0     {'latitude': 33.77842, 'longitude': -84.27765}  [pickup, delivery]   \n",
       "1   {'latitude': 33.792788, 'longitude': -84.290715}            [pickup]   \n",
       "2   {'latitude': 33.792656, 'longitude': -84.351852}          [delivery]   \n",
       "3  {'latitude': 33.8009687, 'longitude': -84.3274...          [delivery]   \n",
       "4  {'latitude': 33.792235, 'longitude': -84.30513...  [pickup, delivery]   \n",
       "\n",
       "  price                                           location         phone  \\\n",
       "0    $$  {'address1': '2752 E Ponce De Leon Ave', 'addr...  +14043433806   \n",
       "1    $$  {'address1': '1479 Scott Blvd', 'address2': ''...  +14702404945   \n",
       "2    $$  {'address1': '1409 N Highland Ave NE', 'addres...  +14045000575   \n",
       "3    $$  {'address1': '1540 Avenue Pl', 'address2': 'St...  +16789279131   \n",
       "4    $$  {'address1': '1355 Clairmont Rd', 'address2': ...  +14042055566   \n",
       "\n",
       "    display_phone     distance  \n",
       "0  (404) 343-3806  3955.605339  \n",
       "1  (470) 240-4945  2274.825994  \n",
       "2  (404) 500-0575  6399.007374  \n",
       "3  (678) 927-9131  3966.477078  \n",
       "4  (404) 205-5566  2858.554068  "
      ]
     },
     "execution_count": 33,
     "metadata": {},
     "output_type": "execute_result"
    }
   ],
   "source": [
    "df.head()"
   ]
  },
  {
   "cell_type": "code",
   "execution_count": 34,
   "id": "b579b1b4-29fe-4b75-9e77-e80a053f0728",
   "metadata": {},
   "outputs": [
    {
     "name": "stdout",
     "output_type": "stream",
     "text": [
      "<class 'pandas.core.frame.DataFrame'>\n",
      "RangeIndex: 802 entries, 0 to 801\n",
      "Data columns (total 16 columns):\n",
      " #   Column         Non-Null Count  Dtype  \n",
      "---  ------         --------------  -----  \n",
      " 0   id             802 non-null    object \n",
      " 1   alias          802 non-null    object \n",
      " 2   name           802 non-null    object \n",
      " 3   image_url      802 non-null    object \n",
      " 4   is_closed      802 non-null    bool   \n",
      " 5   url            802 non-null    object \n",
      " 6   review_count   802 non-null    int64  \n",
      " 7   categories     802 non-null    object \n",
      " 8   rating         802 non-null    float64\n",
      " 9   coordinates    802 non-null    object \n",
      " 10  transactions   802 non-null    object \n",
      " 11  price          664 non-null    object \n",
      " 12  location       802 non-null    object \n",
      " 13  phone          802 non-null    object \n",
      " 14  display_phone  802 non-null    object \n",
      " 15  distance       802 non-null    float64\n",
      "dtypes: bool(1), float64(2), int64(1), object(12)\n",
      "memory usage: 94.9+ KB\n"
     ]
    }
   ],
   "source": [
    "# Verify the .info \n",
    "df.info()"
   ]
  },
  {
   "cell_type": "code",
   "execution_count": 35,
   "id": "1dde2958-aad2-44e4-ae51-0d262ce2b166",
   "metadata": {},
   "outputs": [
    {
     "data": {
      "text/plain": [
       "'Data/Atlanta-american.csv.gz'"
      ]
     },
     "execution_count": 35,
     "metadata": {},
     "output_type": "execute_result"
    }
   ],
   "source": [
    "## convert the filename to a .csv.gz\n",
    "csv_file = JSON_FILE.replace('.json','.csv.gz')\n",
    "csv_file"
   ]
  },
  {
   "cell_type": "code",
   "execution_count": null,
   "id": "b3b95206-514a-4cc7-9b20-cbdb71968f4c",
   "metadata": {},
   "outputs": [],
   "source": []
  }
 ],
 "metadata": {
  "kernelspec": {
   "display_name": "Python (dojo-env)",
   "language": "python",
   "name": "dojo-env"
  },
  "language_info": {
   "codemirror_mode": {
    "name": "ipython",
    "version": 3
   },
   "file_extension": ".py",
   "mimetype": "text/x-python",
   "name": "python",
   "nbconvert_exporter": "python",
   "pygments_lexer": "ipython3",
   "version": "3.10.10"
  }
 },
 "nbformat": 4,
 "nbformat_minor": 5
}
